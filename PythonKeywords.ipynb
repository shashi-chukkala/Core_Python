{
 "cells": [
  {
   "cell_type": "code",
   "execution_count": null,
   "id": "90de767b-1820-4805-977a-730c581bae83",
   "metadata": {},
   "outputs": [],
   "source": []
  }
 ],
 "metadata": {
  "kernelspec": {
   "display_name": "",
   "name": ""
  },
  "language_info": {
   "name": ""
  }
 },
 "nbformat": 4,
 "nbformat_minor": 5
}
