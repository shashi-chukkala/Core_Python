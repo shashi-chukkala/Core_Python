{
 "cells": [
  {
   "cell_type": "markdown",
   "id": "426c5da1-9947-4976-9764-00f69d214d72",
   "metadata": {},
   "source": [
    "Working With Replacement Fields In Python"
   ]
  },
  {
   "cell_type": "code",
   "execution_count": 1,
   "id": "e15f39cc-4afa-48d3-897a-69535fb8db21",
   "metadata": {},
   "outputs": [],
   "source": [
    "#Syn: print(\"replacement fields\".format(variable(s)))"
   ]
  },
  {
   "cell_type": "code",
   "execution_count": 2,
   "id": "f90314b2-0de3-4020-b61e-1accb2bda7f2",
   "metadata": {},
   "outputs": [
    {
     "name": "stdout",
     "output_type": "stream",
     "text": [
      "sno is : 101 sname is :Ramesh and scity is : Hyderabad\n"
     ]
    }
   ],
   "source": [
    "#using Automatic Field numbering System\n",
    "sno=101\n",
    "sname=\"Ramesh\"\n",
    "scity=\"Hyderabad\"\n",
    "print(\"sno is : {} sname is :{} and scity is : {}\".format(sno,sname,scity))"
   ]
  },
  {
   "cell_type": "code",
   "execution_count": 3,
   "id": "ff23f974-45f2-4c6f-b1fd-1592192e6451",
   "metadata": {},
   "outputs": [
    {
     "name": "stdout",
     "output_type": "stream",
     "text": [
      "sno is : 101 sname is : Ramesh and scity is : Hyderabad\n"
     ]
    }
   ],
   "source": [
    "#using Manual Field Specification index based \n",
    "print(\"sno is : {1} sname is : {0} and scity is : {2}\".format(sname,sno,scity))"
   ]
  },
  {
   "cell_type": "code",
   "execution_count": 4,
   "id": "4d55c8cf-579a-4b43-a7d2-a40d0f1d9b80",
   "metadata": {},
   "outputs": [
    {
     "name": "stdout",
     "output_type": "stream",
     "text": [
      "sno is : 101 sname is : Ramesh and scity is : Hyderabad\n"
     ]
    }
   ],
   "source": [
    "#using Manual Field Specification name based\n",
    "print(\"sno is : {n} sname is : {na} and scity is : {sc}\".format(na=sname,n=sno,sc=scity))"
   ]
  },
  {
   "cell_type": "code",
   "execution_count": null,
   "id": "e726c1ab-6b31-44b4-b08a-f337067b1985",
   "metadata": {},
   "outputs": [],
   "source": []
  }
 ],
 "metadata": {
  "kernelspec": {
   "display_name": "Python 3 (ipykernel)",
   "language": "python",
   "name": "python3"
  },
  "language_info": {
   "codemirror_mode": {
    "name": "ipython",
    "version": 3
   },
   "file_extension": ".py",
   "mimetype": "text/x-python",
   "name": "python",
   "nbconvert_exporter": "python",
   "pygments_lexer": "ipython3",
   "version": "3.12.7"
  }
 },
 "nbformat": 4,
 "nbformat_minor": 5
}
