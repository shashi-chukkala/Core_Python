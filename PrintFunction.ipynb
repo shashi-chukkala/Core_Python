{
 "cells": [
  {
   "cell_type": "code",
   "execution_count": 1,
   "id": "a24f5fb9-9cef-4195-bdc4-654068484527",
   "metadata": {},
   "outputs": [
    {
     "name": "stdout",
     "output_type": "stream",
     "text": [
      "welcome to jupyter Noteboo\n"
     ]
    }
   ],
   "source": [
    "print(\"welcome to jupyter Noteboo\")"
   ]
  },
  {
   "cell_type": "markdown",
   "id": "59beb98b-00f7-4f09-8d5c-62abd8251540",
   "metadata": {},
   "source": [
    "Print Function with mutiple values"
   ]
  },
  {
   "cell_type": "code",
   "execution_count": 8,
   "id": "8678c626-736f-4482-bd40-91e8a9696324",
   "metadata": {},
   "outputs": [
    {
     "name": "stdout",
     "output_type": "stream",
     "text": [
      "10 12.12 Sssit\n",
      "10-12.12-Sssit\n"
     ]
    }
   ],
   "source": [
    "x=10\n",
    "y=12.12\n",
    "z=\"Sssit\"\n",
    "print(x,y,z,sep=' ')\n",
    "print(x,y,z,sep='-')\n"
   ]
  },
  {
   "cell_type": "code",
   "execution_count": 9,
   "id": "56328a78-b611-4449-80b2-9b3d4ca4bb81",
   "metadata": {},
   "outputs": [],
   "source": [
    "#Working with end attribute in print( )"
   ]
  },
  {
   "cell_type": "code",
   "execution_count": 10,
   "id": "bb892d64-ab15-44b2-ac92-5a086379aaaf",
   "metadata": {},
   "outputs": [
    {
     "name": "stdout",
     "output_type": "stream",
     "text": [
      "10\n"
     ]
    }
   ],
   "source": [
    "x=10\n",
    "y=12.12\n",
    "print(x,end='\\n')"
   ]
  },
  {
   "cell_type": "code",
   "execution_count": 11,
   "id": "2c907e09-8218-405f-954d-f2bf412fc371",
   "metadata": {},
   "outputs": [
    {
     "name": "stdout",
     "output_type": "stream",
     "text": [
      "10\n",
      "12.12\n"
     ]
    }
   ],
   "source": [
    "print(x,end='\\n')\n",
    "print(y,end='\\n')"
   ]
  },
  {
   "cell_type": "markdown",
   "id": "aa236e3f-6c7b-4cad-bb44-c43f35ff65b3",
   "metadata": {},
   "source": [
    "Working with format Specifiers\n",
    " These are used to specify what types of values to be formatted during the output\n",
    " data type                format specifier\n",
    " int                       %d\n",
    " float                     %f\n",
    " String                    %s\n",
    " Syn: print(\"format specifier(s)\"  %(variable(s)))"
   ]
  },
  {
   "cell_type": "code",
   "execution_count": 12,
   "id": "426a0eab-f329-431f-a638-1d825534cfa9",
   "metadata": {},
   "outputs": [
    {
     "name": "stdout",
     "output_type": "stream",
     "text": [
      "sno is 101\n",
      "sname is : Ramesh and Savg is 55.550000 \n"
     ]
    }
   ],
   "source": [
    "sno=101 #int\n",
    "sname=\"Ramesh\" #string\n",
    "savg=55.55\n",
    "print(\"sno is %d\" %sno)\n",
    "print(\"sname is : %s and Savg is %f \" %(sname,savg))"
   ]
  },
  {
   "cell_type": "code",
   "execution_count": null,
   "id": "78631a3c-8972-4def-8924-f738dce7137e",
   "metadata": {},
   "outputs": [],
   "source": []
  },
  {
   "cell_type": "code",
   "execution_count": null,
   "id": "d7f0d732-95cf-434e-8074-47dcc0f631e4",
   "metadata": {},
   "outputs": [],
   "source": []
  }
 ],
 "metadata": {
  "kernelspec": {
   "display_name": "Python 3 (ipykernel)",
   "language": "python",
   "name": "python3"
  },
  "language_info": {
   "codemirror_mode": {
    "name": "ipython",
    "version": 3
   },
   "file_extension": ".py",
   "mimetype": "text/x-python",
   "name": "python",
   "nbconvert_exporter": "python",
   "pygments_lexer": "ipython3",
   "version": "3.12.7"
  }
 },
 "nbformat": 4,
 "nbformat_minor": 5
}
